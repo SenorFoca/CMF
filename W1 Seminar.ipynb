{
 "cells": [
  {
   "cell_type": "markdown",
   "id": "2b0cf801",
   "metadata": {},
   "source": [
    "# Question 1"
   ]
  },
  {
   "cell_type": "code",
   "execution_count": 18,
   "id": "e3fe8ffe",
   "metadata": {},
   "outputs": [
    {
     "name": "stdout",
     "output_type": "stream",
     "text": [
      "Hello World\n"
     ]
    }
   ],
   "source": [
    "a = print('Hello World')\n",
    "a"
   ]
  },
  {
   "cell_type": "markdown",
   "id": "49b63b75",
   "metadata": {},
   "source": [
    "# Question 2"
   ]
  },
  {
   "cell_type": "code",
   "execution_count": 5,
   "id": "5adba0d3",
   "metadata": {},
   "outputs": [
    {
     "name": "stdout",
     "output_type": "stream",
     "text": [
      "0\n",
      "1\n",
      "2\n",
      "3\n",
      "4\n"
     ]
    }
   ],
   "source": [
    "for x in range (10):\n",
    "    if x < 5:\n",
    "        print (x)"
   ]
  },
  {
   "cell_type": "markdown",
   "id": "0581f131",
   "metadata": {},
   "source": [
    "# Question 3"
   ]
  },
  {
   "cell_type": "code",
   "execution_count": 14,
   "id": "50038bcb",
   "metadata": {},
   "outputs": [
    {
     "name": "stdout",
     "output_type": "stream",
     "text": [
      "The variable x is <class 'int'> type\n"
     ]
    }
   ],
   "source": [
    "x = 100\n",
    "print('The variable x is ' + str(type(x)) + ' type')"
   ]
  },
  {
   "cell_type": "code",
   "execution_count": 10,
   "id": "997cd11d",
   "metadata": {},
   "outputs": [
    {
     "name": "stdout",
     "output_type": "stream",
     "text": [
      "100.0\n"
     ]
    },
    {
     "data": {
      "text/plain": [
       "float"
      ]
     },
     "execution_count": 10,
     "metadata": {},
     "output_type": "execute_result"
    }
   ],
   "source": [
    "float_x = float(x)\n",
    "print (float_x)\n",
    "type(float_x)"
   ]
  },
  {
   "cell_type": "markdown",
   "id": "af694ff4",
   "metadata": {},
   "source": [
    "# Question 4"
   ]
  },
  {
   "cell_type": "code",
   "execution_count": 22,
   "id": "0efefd64",
   "metadata": {},
   "outputs": [
    {
     "name": "stdout",
     "output_type": "stream",
     "text": [
      "<class 'NoneType'>\n"
     ]
    }
   ],
   "source": [
    "y = None\n",
    "print(type(y))"
   ]
  },
  {
   "cell_type": "markdown",
   "id": "c76879fe",
   "metadata": {},
   "source": [
    "# Question 5"
   ]
  },
  {
   "cell_type": "code",
   "execution_count": 23,
   "id": "68ca96f4",
   "metadata": {},
   "outputs": [
    {
     "name": "stdout",
     "output_type": "stream",
     "text": [
      "-0.1\n"
     ]
    }
   ],
   "source": [
    "x = -0.05\n",
    "y = 0, 1, 2\n",
    "\n",
    "print(round(x, 1))"
   ]
  },
  {
   "cell_type": "markdown",
   "id": "2cc2cdd9",
   "metadata": {},
   "source": [
    "# Question 6"
   ]
  },
  {
   "cell_type": "code",
   "execution_count": 32,
   "id": "7efea2e2",
   "metadata": {},
   "outputs": [
    {
     "name": "stdout",
     "output_type": "stream",
     "text": [
      "Hello, what is your name? Edu\n",
      "What a beatufull name\n",
      "Thank you, and what is your age? 34\n",
      "Oh, you are in the flower of life\n"
     ]
    }
   ],
   "source": [
    "name = input('Hello, what is your name? ')\n",
    "if name == 'Dani' or name == 'Daniel':\n",
    "    print ('What a horrible name')\n",
    "else:\n",
    "    print ('What a beatufull name')\n",
    "    \n",
    "age = input('Thank you, and what is your age? ')\n",
    "age = int(age)\n",
    "if age >= 35:\n",
    "    print('You are too old')\n",
    "else:\n",
    "    print('Oh, you are in the flower of life')\n"
   ]
  },
  {
   "cell_type": "markdown",
   "id": "6debd851",
   "metadata": {},
   "source": [
    "# Question 7"
   ]
  },
  {
   "cell_type": "code",
   "execution_count": 46,
   "id": "3c3bac1e",
   "metadata": {},
   "outputs": [
    {
     "name": "stdout",
     "output_type": "stream",
     "text": [
      "[[ 1  2  3  4]\n",
      " [ 5  6  7  8]\n",
      " [ 9 10 11 12]\n",
      " [13 14 15 16]]\n",
      "\n",
      "[[   1   23    4]\n",
      " [   5   67    8]\n",
      " [   9 1011   12]\n",
      " [  13 1415   16]]\n"
     ]
    }
   ],
   "source": [
    "import numpy as np\n",
    "\n",
    "x = np.arange (1, 17).reshape(4,4)\n",
    "print(x)\n",
    "\n",
    "print()\n",
    "\n",
    "y = [[1, 23, 4], [5, 67, 8], [9, 1011, 12], [13, 1415, 16]]\n",
    "y = np.array(y)\n",
    "print(y)"
   ]
  },
  {
   "cell_type": "markdown",
   "id": "97838749",
   "metadata": {},
   "source": [
    "# Question 8"
   ]
  },
  {
   "cell_type": "code",
   "execution_count": 48,
   "id": "880f2fed",
   "metadata": {},
   "outputs": [
    {
     "name": "stdout",
     "output_type": "stream",
     "text": [
      "10\n"
     ]
    }
   ],
   "source": [
    "sum_first_row = np.sum(x[0, :])\n",
    "print(sum_first_row)"
   ]
  },
  {
   "cell_type": "code",
   "execution_count": 49,
   "id": "aac88d3f",
   "metadata": {},
   "outputs": [
    {
     "name": "stdout",
     "output_type": "stream",
     "text": [
      "4.47213595499958\n"
     ]
    }
   ],
   "source": [
    "std_second_column = np.std(x[:, 1])\n",
    "print(std_second_column)"
   ]
  },
  {
   "cell_type": "code",
   "execution_count": 53,
   "id": "53cfe192",
   "metadata": {},
   "outputs": [
    {
     "name": "stdout",
     "output_type": "stream",
     "text": [
      "2\n"
     ]
    }
   ],
   "source": [
    "element_first_row_second_column = x[0, 1]\n",
    "print(element_first_row_second_column)"
   ]
  },
  {
   "cell_type": "markdown",
   "id": "dfedcabc",
   "metadata": {},
   "source": [
    "# Question 9"
   ]
  },
  {
   "cell_type": "code",
   "execution_count": 55,
   "id": "98df9c45",
   "metadata": {},
   "outputs": [
    {
     "data": {
      "text/plain": [
       "array([[0., 0., 0., 0.],\n",
       "       [0., 0., 0., 0.],\n",
       "       [0., 0., 0., 0.]])"
      ]
     },
     "execution_count": 55,
     "metadata": {},
     "output_type": "execute_result"
    }
   ],
   "source": [
    "np.zeros((3, 4))"
   ]
  },
  {
   "cell_type": "code",
   "execution_count": null,
   "id": "9c30d866",
   "metadata": {},
   "outputs": [],
   "source": []
  }
 ],
 "metadata": {
  "kernelspec": {
   "display_name": "Python 3 (ipykernel)",
   "language": "python",
   "name": "python3"
  },
  "language_info": {
   "codemirror_mode": {
    "name": "ipython",
    "version": 3
   },
   "file_extension": ".py",
   "mimetype": "text/x-python",
   "name": "python",
   "nbconvert_exporter": "python",
   "pygments_lexer": "ipython3",
   "version": "3.11.5"
  }
 },
 "nbformat": 4,
 "nbformat_minor": 5
}
