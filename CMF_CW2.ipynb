{
  "nbformat": 4,
  "nbformat_minor": 0,
  "metadata": {
    "colab": {
      "provenance": [],
      "authorship_tag": "ABX9TyMxiio+vXiEug1YwVOhtqVM",
      "include_colab_link": true
    },
    "kernelspec": {
      "name": "python3",
      "display_name": "Python 3"
    },
    "language_info": {
      "name": "python"
    }
  },
  "cells": [
    {
      "cell_type": "markdown",
      "metadata": {
        "id": "view-in-github",
        "colab_type": "text"
      },
      "source": [
        "<a href=\"https://colab.research.google.com/github/SenorFoca/CMF/blob/main/CMF_CW2.ipynb\" target=\"_parent\"><img src=\"https://colab.research.google.com/assets/colab-badge.svg\" alt=\"Open In Colab\"/></a>"
      ]
    },
    {
      "cell_type": "markdown",
      "source": [
        "#1. Option Pricing"
      ],
      "metadata": {
        "id": "cIA04mBtc9Gi"
      }
    },
    {
      "cell_type": "code",
      "execution_count": null,
      "metadata": {
        "id": "CV_BsE7Zqq0S"
      },
      "outputs": [],
      "source": [
        "import yfinance as yf\n",
        "import numpy as np\n",
        "from scipy.stats import norm"
      ]
    },
    {
      "cell_type": "code",
      "source": [
        "# Download stock data\n",
        "data = yf.download('SHEL.L', start='2023-01-01', end='2024-11-30')"
      ],
      "metadata": {
        "colab": {
          "base_uri": "https://localhost:8080/"
        },
        "id": "7I-eQXrI1gjG",
        "outputId": "5dcd5099-e1f3-4d70-f724-a7b01e3e108d"
      },
      "execution_count": null,
      "outputs": [
        {
          "output_type": "stream",
          "name": "stderr",
          "text": [
            "\r[*********************100%***********************]  1 of 1 completed\n"
          ]
        }
      ]
    },
    {
      "cell_type": "code",
      "source": [
        "\n",
        "# Calculate daily returns\n",
        "data['Daily Return'] = data['Adj Close'].pct_change()\n",
        "\n",
        "# Calculate rolling volatility (e.g., 30-day standard deviation)\n",
        "data['Rolling Volatility (30-day)'] = data['Daily Return'].rolling(window=30).std()\n",
        "\n",
        "# Calculate annualized volatility\n",
        "data['Annualized Volatility'] = data['Rolling Volatility (30-day)'] * (252 ** 0.5)\n",
        "\n",
        "# Select relevant columns for display\n",
        "result = data[['Adj Close', 'Annualized Volatility']].dropna()\n",
        "\n",
        "# Display the result\n",
        "print(result)"
      ],
      "metadata": {
        "colab": {
          "base_uri": "https://localhost:8080/"
        },
        "id": "Xl00r75n2-9S",
        "outputId": "46f07b12-5ab7-4957-8496-2f570d422626"
      },
      "execution_count": null,
      "outputs": [
        {
          "output_type": "stream",
          "name": "stdout",
          "text": [
            "Price         Adj Close Annualized Volatility\n",
            "Ticker           SHEL.L                      \n",
            "Date                                         \n",
            "2023-02-14  2342.885742              0.216087\n",
            "2023-02-15  2359.813721              0.185033\n",
            "2023-02-16  2389.933594              0.185474\n",
            "2023-02-17  2346.983887              0.192209\n",
            "2023-02-20  2331.281982              0.192080\n",
            "...                 ...                   ...\n",
            "2024-11-25  2574.000000              0.203394\n",
            "2024-11-26  2554.500000              0.178075\n",
            "2024-11-27  2538.000000              0.176385\n",
            "2024-11-28  2531.500000              0.174904\n",
            "2024-11-29  2531.500000              0.173550\n",
            "\n",
            "[454 rows x 2 columns]\n"
          ]
        }
      ]
    },
    {
      "cell_type": "code",
      "source": [
        "import numpy as np\n",
        "from scipy.stats import norm\n",
        "\n",
        "# Option parameters\n",
        "S = 25.31  # Stock price\n",
        "K = 29  # Strike price\n",
        "r = 0.05  # Risk-free rate\n",
        "T = 1  # Time to maturity in years\n",
        "sigma = 0.17  # Volatility\n",
        "n_simulations = 100000  # Number of simulations for Monte Carlo\n",
        "\n",
        "# Black-Scholes-Merton Formula\n",
        "def black_scholes_call_price(S, K, r, T, sigma):\n",
        "    d1 = (np.log(S / K) + (r + 0.5 * sigma**2) * T) / (sigma * np.sqrt(T))\n",
        "    d2 = d1 - sigma * np.sqrt(T)\n",
        "    call_price = S * norm.cdf(d1) - K * np.exp(-r * T) * norm.cdf(d2)\n",
        "    return call_price\n",
        "\n",
        "bsm_price = black_scholes_call_price(S, K, r, T, sigma)\n",
        "\n",
        "# Monte Carlo Simulation\n",
        "np.random.seed(42)  # For reproducibility\n",
        "z = np.random.standard_normal(n_simulations)  # Standard normal random variables\n",
        "S_T = S * np.exp((r - 0.5 * sigma**2) * T + sigma * np.sqrt(T) * z)  # Simulated prices\n",
        "payoffs = np.maximum(S_T - K, 0)  # Payoff of call option\n",
        "mc_price = np.exp(-r * T) * np.mean(payoffs)  # Discounted payoff\n",
        "\n",
        "print(f'Black-Scholes-Merton Formula {bsm_price: .5f}')\n",
        "print(f'Monte Carlo Simulation {mc_price: .5f}')"
      ],
      "metadata": {
        "colab": {
          "base_uri": "https://localhost:8080/"
        },
        "id": "uNNfMp-54a2u",
        "outputId": "a8723ec8-9fa4-474f-ee5e-1b9d9c90f739"
      },
      "execution_count": null,
      "outputs": [
        {
          "output_type": "stream",
          "name": "stdout",
          "text": [
            "Black-Scholes-Merton Formula  0.87797\n",
            "Monte Carlo Simulation  0.88218\n"
          ]
        }
      ]
    },
    {
      "cell_type": "markdown",
      "source": [
        "# 2. Implied volatility"
      ],
      "metadata": {
        "id": "B5pZ99hzdENR"
      }
    },
    {
      "cell_type": "code",
      "source": [
        "import numpy as np\n",
        "from scipy.stats import norm\n",
        "\n",
        "# =======================\n",
        "# Black-Scholes Functions\n",
        "# =======================\n",
        "def d1(S, K, r, sigma, T):\n",
        "    return (np.log(S/K) + (r + 0.5*sigma**2)*T) / (sigma*np.sqrt(T))\n",
        "\n",
        "def d2(S, K, r, sigma, T):\n",
        "    return d1(S, K, r, sigma, T) - sigma*np.sqrt(T)\n",
        "\n",
        "def call_price_bs(S, K, r, sigma, T):\n",
        "    \"\"\"\n",
        "    Compute the Black-Scholes price of a European call option\n",
        "    for non-dividend paying underlying.\n",
        "    \"\"\"\n",
        "    D1 = d1(S, K, r, sigma, T)\n",
        "    D2 = d2(S, K, r, sigma, T)\n",
        "    return S*norm.cdf(D1) - K*np.exp(-r*T)*norm.cdf(D2)\n",
        "\n",
        "def vega(S, K, r, sigma, T):\n",
        "    \"\"\"\n",
        "    Vega is the derivative of the call price w.r.t. sigma.\n",
        "    \"\"\"\n",
        "    D1 = d1(S, K, r, sigma, T)\n",
        "    return S * norm.pdf(D1)*np.sqrt(T)\n",
        "\n",
        "\n",
        "# ===============================\n",
        "# Newton-Raphson for Implied Vol\n",
        "# ===============================\n",
        "def implied_vol_newton(c_market, S, K, r, T, tol=1e-8, max_iter=100, initial_guess=0.2):\n",
        "\n",
        "\n",
        "    sigma = initial_guess\n",
        "    for i in range(max_iter):\n",
        "        # Compute price difference\n",
        "        price = call_price_bs(S, K, r, sigma, T)\n",
        "        diff = price - c_market\n",
        "\n",
        "        if abs(diff) < tol:\n",
        "            # Converged\n",
        "            return sigma\n",
        "\n",
        "        # Compute Vega\n",
        "        v = vega(S, K, r, sigma, T)\n",
        "\n",
        "        # Update sigma using Newton-Raphson\n",
        "        sigma = sigma - diff / v\n",
        "\n",
        "    # If we reach here, we did not converge within max_iter\n",
        "    raise ValueError(\"Implied volatility did not converge.\")\n",
        "\n",
        "\n",
        "S = 100.0\n",
        "K = 100.0\n",
        "r = 0.05\n",
        "T = 1.0\n",
        "c_market = 10.0\n",
        "\n",
        "\n",
        "implied_vol = implied_vol_newton(c_market, S, K, r, T, initial_guess=0.2)\n",
        "print(\"Implied Volatility:\", implied_vol)"
      ],
      "metadata": {
        "colab": {
          "base_uri": "https://localhost:8080/"
        },
        "id": "z8PUji49A44N",
        "outputId": "18153e05-93df-45f3-d5c4-faa94bbf8dd7"
      },
      "execution_count": null,
      "outputs": [
        {
          "output_type": "stream",
          "name": "stdout",
          "text": [
            "Implied Volatility: 0.187971649526008\n"
          ]
        }
      ]
    },
    {
      "cell_type": "markdown",
      "source": [
        "## Tesla Implied Volatility\n"
      ],
      "metadata": {
        "id": "KxdWSfI14U6u"
      }
    },
    {
      "cell_type": "code",
      "source": [
        "import numpy as np\n",
        "import scipy.stats as si\n",
        "\n",
        "def newton_vol_put(S, K, T, P, r):\n",
        "    MAX_ITERATIONS = 100\n",
        "    tolerance = 1e-8\n",
        "    min_vega = 1e-10  # Threshold for considering vega too small\n",
        "    sigma = 0.25  # initial guess\n",
        "\n",
        "    for i in range(MAX_ITERATIONS):\n",
        "        d1 = (np.log(S/K) + (r + 0.5*sigma**2)*T)/(sigma*np.sqrt(T))\n",
        "        d2 = d1 - sigma*np.sqrt(T)\n",
        "\n",
        "        price = K*np.exp(-r*T)*si.norm.cdf(-d2) - S*si.norm.cdf(-d1)\n",
        "        vega = S * np.sqrt(T) * si.norm.pdf(d1)\n",
        "\n",
        "        diff = P - price\n",
        "\n",
        "        if abs(diff) < tolerance:\n",
        "            return sigma\n",
        "\n",
        "        if vega < min_vega:\n",
        "            print(f\"Warning: Vega is too small (vega={vega}). The Newton-Raphson step may be unstable.\")\n",
        "            # Optionally break or return current sigma\n",
        "            break\n",
        "\n",
        "        sigma = sigma + diff/vega\n",
        "        # Debug print statements (optional)\n",
        "        # print(i, sigma, diff, vega)\n",
        "\n",
        "    return sigma"
      ],
      "metadata": {
        "id": "S9237JPhDA_p"
      },
      "execution_count": null,
      "outputs": []
    },
    {
      "cell_type": "code",
      "source": [
        "ticker = yf.Ticker(\"TSLA\")\n",
        "data = ticker.history(period=\"1d\")  # last day’s data\n",
        "current_price = data[\"Close\"].iloc[-1]  # current spot price\n",
        "print(\"Current TSLA spot price:\", S)"
      ],
      "metadata": {
        "colab": {
          "base_uri": "https://localhost:8080/"
        },
        "id": "-i4EKKPCD5J0",
        "outputId": "ae94c493-4123-4ce2-ae94-f813762cf1d9"
      },
      "execution_count": null,
      "outputs": [
        {
          "output_type": "stream",
          "name": "stdout",
          "text": [
            "Current TSLA spot price: 402.10089111328125\n"
          ]
        }
      ]
    },
    {
      "cell_type": "code",
      "source": [
        "def time_to_maturity(expiration_str, current_date=date.today()):\n",
        "\n",
        "    expiration = datetime.strptime(expiration_str, \"%Y-%m-%d\").date()\n",
        "    days_to_exp = (expiration - current_date).days\n",
        "    T = days_to_exp / 365.0\n",
        "    return T"
      ],
      "metadata": {
        "id": "NbL81507LYjQ"
      },
      "execution_count": null,
      "outputs": []
    },
    {
      "cell_type": "code",
      "source": [
        "def get_put_price(ticker, expiration_str, strike):\n",
        "\n",
        "    t = yf.Ticker(ticker)\n",
        "    if expiration_str not in t.options:\n",
        "        raise ValueError(f\"Expiration date {expiration_str} not found for {ticker}.\")\n",
        "\n",
        "    puts = t.option_chain(expiration_str).puts\n",
        "    put_row = puts[puts['strike'] == strike]\n",
        "    if put_row.empty:\n",
        "        raise ValueError(f\"No put found for strike {strike} on {expiration_str} for {ticker}.\")\n",
        "\n",
        "    P = put_row['lastPrice'].values[0]\n",
        "    return P"
      ],
      "metadata": {
        "id": "gLffmtwnLd0Q"
      },
      "execution_count": null,
      "outputs": []
    },
    {
      "cell_type": "markdown",
      "source": [
        "### K = 140"
      ],
      "metadata": {
        "id": "Y-PyFbsTMMrp"
      }
    },
    {
      "cell_type": "code",
      "source": [
        "ticker = \"TSLA\"\n",
        "expiration_str = \"2025-01-17\"\n",
        "strike = 140.0\n",
        "\n",
        "S = current_price\n",
        "K = strike\n",
        "T = time_to_maturity(expiration_str)\n",
        "P = get_put_price(ticker, expiration_str, strike)\n",
        "r = 0.05\n",
        "\n",
        "print(\"Spot price: \", S)\n",
        "print(\"Put price: \", P)"
      ],
      "metadata": {
        "colab": {
          "base_uri": "https://localhost:8080/"
        },
        "id": "K6W5lpn3Llio",
        "outputId": "53d5db74-7945-4802-ff55-5a1b43fb3c8b"
      },
      "execution_count": null,
      "outputs": [
        {
          "output_type": "stream",
          "name": "stdout",
          "text": [
            "Spot price:  402.260009765625\n",
            "Put price:  0.19\n"
          ]
        }
      ]
    },
    {
      "cell_type": "code",
      "source": [
        "impvol = newton_vol_put(S, K, T, P, r)"
      ],
      "metadata": {
        "colab": {
          "base_uri": "https://localhost:8080/"
        },
        "id": "bIjFQLKTJjaG",
        "outputId": "9a801b1f-6152-4c8d-a844-08dfad72085c"
      },
      "execution_count": null,
      "outputs": [
        {
          "output_type": "stream",
          "name": "stdout",
          "text": [
            "Warning: Vega is too small (vega=8.704906687886083e-37). The Newton-Raphson step may be unstable.\n"
          ]
        }
      ]
    },
    {
      "cell_type": "code",
      "source": [
        "print(\"Estimated implied volatility in %:\", round(impvol*100, 2), \"%\")"
      ],
      "metadata": {
        "id": "7U-kGEDEOq0N"
      },
      "execution_count": null,
      "outputs": []
    },
    {
      "cell_type": "markdown",
      "source": [
        "### K = 340\n"
      ],
      "metadata": {
        "id": "zfYKzmQ9PM4M"
      }
    },
    {
      "cell_type": "code",
      "source": [
        "ticker = \"TSLA\"\n",
        "expiration_str = \"2025-01-17\"\n",
        "strike = 340.0\n",
        "\n",
        "S = current_price\n",
        "K = strike\n",
        "T = time_to_maturity(expiration_str)\n",
        "P = get_put_price(ticker, expiration_str, strike)\n",
        "r = 0.05\n",
        "\n",
        "print(\"Spot price: \", S)\n",
        "print(\"Put price: \", P)"
      ],
      "metadata": {
        "colab": {
          "base_uri": "https://localhost:8080/"
        },
        "id": "hr81SdBQPQ_W",
        "outputId": "23feefb8-6891-4524-852a-fd8866975a00"
      },
      "execution_count": null,
      "outputs": [
        {
          "output_type": "stream",
          "name": "stdout",
          "text": [
            "Spot price:  402.260009765625\n",
            "Put price:  7.1\n"
          ]
        }
      ]
    },
    {
      "cell_type": "code",
      "source": [
        "impvol = newton_vol_put(S, K, T, P, r)"
      ],
      "metadata": {
        "id": "hdszQeB8PVb1"
      },
      "execution_count": null,
      "outputs": []
    },
    {
      "cell_type": "code",
      "source": [
        "print(\"Estimated implied volatility in %:\", round(impvol*100, 2), \"%\")"
      ],
      "metadata": {
        "colab": {
          "base_uri": "https://localhost:8080/"
        },
        "id": "gIgiJWBlPWm0",
        "outputId": "7a64dd07-2edf-4e17-fbf9-039ef3706336"
      },
      "execution_count": null,
      "outputs": [
        {
          "output_type": "stream",
          "name": "stdout",
          "text": [
            "Estimated implied volatility in %: 59.49 %\n"
          ]
        }
      ]
    },
    {
      "cell_type": "markdown",
      "source": [
        "# 3. Tesla Annual Historical Volatility"
      ],
      "metadata": {
        "id": "Cqh12xpqSfP4"
      }
    },
    {
      "cell_type": "code",
      "source": [
        "TSLA = yf.download(\"TSLA\", start=\"2023-11-25\", end=\"2024-12-10\")"
      ],
      "metadata": {
        "id": "nsT_8coeSRTH"
      },
      "execution_count": null,
      "outputs": []
    },
    {
      "cell_type": "code",
      "source": [
        "spot_price = TSLA['Adj Close'].iloc[-1]\n",
        "S = spot_price.values[0]\n",
        "print('The spot price is $', round(S,2), '.')"
      ],
      "metadata": {
        "colab": {
          "base_uri": "https://localhost:8080/"
        },
        "id": "litXoN0vSrsQ",
        "outputId": "4de8f6f4-83aa-4c57-f6b7-f4bf7993bf54"
      },
      "execution_count": null,
      "outputs": [
        {
          "output_type": "stream",
          "name": "stdout",
          "text": [
            "The spot price is $ 389.79 .\n"
          ]
        }
      ]
    },
    {
      "cell_type": "code",
      "source": [
        "log_return = np.log(TSLA['Adj Close'] / TSLA['Adj Close'].shift(1))\n",
        "vol_h = np.sqrt(252) * log_return.std()\n",
        "vol = vol_h.values[0]\n",
        "print('The annualised volatility is', round(vol*100,2), '%')"
      ],
      "metadata": {
        "colab": {
          "base_uri": "https://localhost:8080/"
        },
        "id": "_1kkg6pBS57o",
        "outputId": "90be46a2-9083-4125-f670-e431cce88fc8"
      },
      "execution_count": null,
      "outputs": [
        {
          "output_type": "stream",
          "name": "stdout",
          "text": [
            "The annualised volatility is 59.95 %\n"
          ]
        }
      ]
    },
    {
      "cell_type": "markdown",
      "source": [
        "# 3. Binomial Tree"
      ],
      "metadata": {
        "id": "k_BVHfGGqNug"
      }
    },
    {
      "cell_type": "code",
      "source": [
        "import math\n",
        "import numpy as np"
      ],
      "metadata": {
        "id": "SvrGRpMZuL17"
      },
      "execution_count": null,
      "outputs": []
    },
    {
      "cell_type": "code",
      "source": [
        "# Parameters\n",
        "S0 = 100.0   # spot stock price\n",
        "K = 100.0    # strike price\n",
        "r = 0.05     # risk-free rate (annual)\n",
        "sigma = 0.2  # volatility (annual)\n",
        "T = 1.0      # time to maturity (years)\n",
        "n = 3        # number of steps\n",
        "\n",
        "dt = T / n                            # Delta t\n",
        "u = math.exp(sigma * math.sqrt(dt))   # up factor\n",
        "d = 1.0 / u                           # down factor\n",
        "a = math.exp(r * dt)                  # risk free compound return\n",
        "p = (a - d) / (u - d)                 # risk neutral up probability\n",
        "\n",
        "print(f\"u = {u:.5f}, d = {d:.5f}, p = {q:.5f}\")"
      ],
      "metadata": {
        "colab": {
          "base_uri": "https://localhost:8080/"
        },
        "id": "D3_3jKc9uJd7",
        "outputId": "c2701432-0739-4361-cdf5-3d7e2ee0f3ea"
      },
      "execution_count": null,
      "outputs": [
        {
          "output_type": "stream",
          "name": "stdout",
          "text": [
            "u = 1.12240, d = 0.89095, p = 0.54378\n"
          ]
        }
      ]
    },
    {
      "cell_type": "code",
      "source": [
        "# Binomial Tree\n",
        "S = np.zeros(( n + 1, n + 1))\n",
        "\n",
        "# Fill the binomial tree stock price matrix.\n",
        "for k in range(n + 1):                  # Each column k represents a time step (from 0 to n).\n",
        "    for j in range(k + 1):              # Each row j in column k represents the price after\n",
        "                                        # k steps with exactly j down-moves\n",
        "        S[j, k] = S0 * (u**(k - j)) * (d**j)  # Start from S0 and apply (k-j) up moves and j down moves.\n",
        "\n",
        "print(\"Stock Price Matrix:\")\n",
        "print(S)"
      ],
      "metadata": {
        "colab": {
          "base_uri": "https://localhost:8080/"
        },
        "id": "l4Dfk-cUuS0b",
        "outputId": "db56428b-11bd-45ed-9a3e-92da93a8de06"
      },
      "execution_count": null,
      "outputs": [
        {
          "output_type": "stream",
          "name": "stdout",
          "text": [
            "Stock Price Matrix:\n",
            "[[100.         112.24009024 125.97837858 141.39824581]\n",
            " [  0.          89.09472523 100.         112.24009024]\n",
            " [  0.           0.          79.37870064  89.09472523]\n",
            " [  0.           0.           0.          70.72223522]]\n"
          ]
        }
      ]
    },
    {
      "cell_type": "code",
      "source": [
        "# At maturity, the option value equals intrinsic value: max(S-K, 0)\n",
        "S_T = S[:,-1]\n",
        "# Initialize the option value matrix V\n",
        "V = np.zeros((n+1, n+1))\n",
        "V[:,-1] = np.maximum(S_T-K, 0.0)    # Set the terminal (maturity) values of the option\n",
        "\n",
        "# Backward induction for a European call option:\n",
        "for j in range(n-1, -1, -1):\n",
        "    for i in range(j+1):\n",
        "        V[i,j] = ((p * V[i, j + 1] + (1 - p)*V[i + 1, j + 1])) / a\n",
        "\n",
        "print(\"\\nOption Price Matrix:\")\n",
        "print(V)\n",
        "\n",
        "print(f\"\\nThe value of the American call option at time 0 is: {V[0,0]:.4f}\")"
      ],
      "metadata": {
        "colab": {
          "base_uri": "https://localhost:8080/"
        },
        "id": "PCQHee37Il7M",
        "outputId": "630a5585-ba23-4545-9583-1ffe75862d84"
      },
      "execution_count": null,
      "outputs": [
        {
          "output_type": "stream",
          "name": "stdout",
          "text": [
            "\n",
            "Option Price Matrix:\n",
            "[[11.04387109 17.71388824 27.6312332  41.39824581]\n",
            " [ 0.          3.50065379  6.54586268 12.24009024]\n",
            " [ 0.          0.          0.          0.        ]\n",
            " [ 0.          0.          0.          0.        ]]\n",
            "\n",
            "The value of the American call option at time 0 is: 11.0439\n"
          ]
        }
      ]
    }
  ]
}